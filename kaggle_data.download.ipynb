{
 "cells": [
  {
   "cell_type": "code",
   "execution_count": 4,
   "metadata": {},
   "outputs": [
    {
     "name": "stdout",
     "output_type": "stream",
     "text": [
      "/bin/bash: /home/nikolaypavlychev/anaconda3/envs/drugs_ner_env/lib/libtinfo.so.6: no version information available (required by /bin/bash)\n",
      "Collecting kaggle\n",
      "  Using cached kaggle-1.5.16.tar.gz (83 kB)\n",
      "  Preparing metadata (setup.py) ... \u001b[?25ldone\n",
      "\u001b[?25hRequirement already satisfied: six>=1.10 in /home/nikolaypavlychev/anaconda3/envs/drugs_ner_env/lib/python3.8/site-packages (from kaggle) (1.16.0)\n",
      "Requirement already satisfied: certifi in /home/nikolaypavlychev/anaconda3/envs/drugs_ner_env/lib/python3.8/site-packages (from kaggle) (2023.7.22)\n",
      "Requirement already satisfied: python-dateutil in /home/nikolaypavlychev/anaconda3/envs/drugs_ner_env/lib/python3.8/site-packages (from kaggle) (2.8.2)\n",
      "Requirement already satisfied: requests in /home/nikolaypavlychev/anaconda3/envs/drugs_ner_env/lib/python3.8/site-packages (from kaggle) (2.31.0)\n",
      "Requirement already satisfied: tqdm in /home/nikolaypavlychev/anaconda3/envs/drugs_ner_env/lib/python3.8/site-packages (from kaggle) (4.66.1)\n",
      "Collecting python-slugify (from kaggle)\n",
      "  Using cached python_slugify-8.0.1-py2.py3-none-any.whl (9.7 kB)\n",
      "Requirement already satisfied: urllib3 in /home/nikolaypavlychev/anaconda3/envs/drugs_ner_env/lib/python3.8/site-packages (from kaggle) (1.26.16)\n",
      "Collecting bleach (from kaggle)\n",
      "  Obtaining dependency information for bleach from https://files.pythonhosted.org/packages/ea/63/da7237f805089ecc28a3f36bca6a21c31fcbc2eb380f3b8f1be3312abd14/bleach-6.1.0-py3-none-any.whl.metadata\n",
      "  Downloading bleach-6.1.0-py3-none-any.whl.metadata (30 kB)\n",
      "Collecting webencodings (from bleach->kaggle)\n",
      "  Using cached webencodings-0.5.1-py2.py3-none-any.whl (11 kB)\n",
      "Collecting text-unidecode>=1.3 (from python-slugify->kaggle)\n",
      "  Using cached text_unidecode-1.3-py2.py3-none-any.whl (78 kB)\n",
      "Requirement already satisfied: charset-normalizer<4,>=2 in /home/nikolaypavlychev/anaconda3/envs/drugs_ner_env/lib/python3.8/site-packages (from requests->kaggle) (3.2.0)\n",
      "Requirement already satisfied: idna<4,>=2.5 in /home/nikolaypavlychev/anaconda3/envs/drugs_ner_env/lib/python3.8/site-packages (from requests->kaggle) (3.4)\n",
      "Using cached bleach-6.1.0-py3-none-any.whl (162 kB)\n",
      "Building wheels for collected packages: kaggle\n",
      "  Building wheel for kaggle (setup.py) ... \u001b[?25ldone\n",
      "\u001b[?25h  Created wheel for kaggle: filename=kaggle-1.5.16-py3-none-any.whl size=110686 sha256=2b88746b27b8ec4243f796d02b2c9b19ca5759125086a64ec818ca2a145261fc\n",
      "  Stored in directory: /home/nikolaypavlychev/.cache/pip/wheels/5a/ab/50/e224f599a07faf6d398a8600796012da271b7e5e7f2a3ab2b8\n",
      "Successfully built kaggle\n",
      "Installing collected packages: webencodings, text-unidecode, python-slugify, bleach, kaggle\n",
      "Successfully installed bleach-6.1.0 kaggle-1.5.16 python-slugify-8.0.1 text-unidecode-1.3 webencodings-0.5.1\n"
     ]
    }
   ],
   "source": [
    "!pip install kaggle"
   ]
  },
  {
   "cell_type": "code",
   "execution_count": null,
   "metadata": {},
   "outputs": [],
   "source": [
    "!pip install -U lightautoml"
   ]
  },
  {
   "cell_type": "code",
   "execution_count": 7,
   "metadata": {},
   "outputs": [
    {
     "name": "stdout",
     "output_type": "stream",
     "text": [
      "/bin/bash: /home/nikolaypavlychev/anaconda3/envs/drugs_ner_env/lib/libtinfo.so.6: no version information available (required by /bin/bash)\n",
      "Downloading competitive-data-science-predict-future-sales.zip to /home/nikolaypavlychev/LAMA_project\n",
      " 99%|█████████████████████████████████████▋| 15.0M/15.1M [00:02<00:00, 8.31MB/s]\n",
      "100%|██████████████████████████████████████| 15.1M/15.1M [00:02<00:00, 6.86MB/s]\n"
     ]
    }
   ],
   "source": [
    "!kaggle competitions download -c competitive-data-science-predict-future-sales\n"
   ]
  },
  {
   "cell_type": "code",
   "execution_count": 8,
   "metadata": {},
   "outputs": [
    {
     "name": "stdout",
     "output_type": "stream",
     "text": [
      "/bin/bash: /home/nikolaypavlychev/anaconda3/envs/drugs_ner_env/lib/libtinfo.so.6: no version information available (required by /bin/bash)\n",
      "total 16M\n",
      "-rw-rw-r-- 1 nikolaypavlychev nikolaypavlychev  16M дек 15  2019 competitive-data-science-predict-future-sales.zip\n",
      "-rw-rw-r-- 1 nikolaypavlychev nikolaypavlychev 5,0K дек 19 19:31 kaggle_data.download.ipynb\n",
      "-rw-rw-r-- 1 nikolaypavlychev nikolaypavlychev 1,4K дек 19 18:52 lightautoml_install_testing.ipynb\n"
     ]
    }
   ],
   "source": [
    "!ls -lh"
   ]
  },
  {
   "cell_type": "code",
   "execution_count": null,
   "metadata": {},
   "outputs": [],
   "source": [
    "!unzip ./competitive-data-science-predict-future-sales.zip "
   ]
  },
  {
   "cell_type": "code",
   "execution_count": null,
   "metadata": {},
   "outputs": [],
   "source": []
  }
 ],
 "metadata": {
  "kernelspec": {
   "display_name": "drugs_ner_env",
   "language": "python",
   "name": "drugs_ner_env"
  },
  "language_info": {
   "codemirror_mode": {
    "name": "ipython",
    "version": 3
   },
   "file_extension": ".py",
   "mimetype": "text/x-python",
   "name": "python",
   "nbconvert_exporter": "python",
   "pygments_lexer": "ipython3",
   "version": "3.8.8"
  }
 },
 "nbformat": 4,
 "nbformat_minor": 2
}
