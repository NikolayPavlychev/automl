{
 "cells": [
  {
   "cell_type": "markdown",
   "metadata": {},
   "source": [
    "## AutoML pipeline notebook\n",
    "Created by Nikolay Pavlychev \\\n",
    "email: nikolaypavlychev@ya.ru"
   ]
  },
  {
   "cell_type": "code",
   "execution_count": 2,
   "metadata": {},
   "outputs": [
    {
     "name": "stdout",
     "output_type": "stream",
     "text": [
      "'nlp' extra dependecy package 'gensim' isn't installed. Look at README.md in repo 'LightAutoML' for installation instructions.\n"
     ]
    },
    {
     "name": "stderr",
     "output_type": "stream",
     "text": [
      "/home/nikolaypavlychev/anaconda3/envs/drugs_ner_env/lib/python3.8/site-packages/tqdm/auto.py:21: TqdmWarning: IProgress not found. Please update jupyter and ipywidgets. See https://ipywidgets.readthedocs.io/en/stable/user_install.html\n",
      "  from .autonotebook import tqdm as notebook_tqdm\n"
     ]
    },
    {
     "name": "stdout",
     "output_type": "stream",
     "text": [
      "'nlp' extra dependecy package 'gensim' isn't installed. Look at README.md in repo 'LightAutoML' for installation instructions.\n"
     ]
    },
    {
     "name": "stderr",
     "output_type": "stream",
     "text": [
      "/home/nikolaypavlychev/anaconda3/envs/drugs_ner_env/lib/python3.8/site-packages/lightautoml/transformers/text.py:22: UserWarning: 'gensim' - package isn't installed\n",
      "  warnings.warn(\"'gensim' - package isn't installed\")\n"
     ]
    }
   ],
   "source": [
    "# Standard python libraries\n",
    "import os\n",
    "\n",
    "# Installed libraries\n",
    "import pandas as pd\n",
    "import numpy as np\n",
    "import matplotlib.pyplot as plt\n",
    "from sklearn.metrics import mean_squared_error\n",
    "from math import sqrt\n",
    "\n",
    "import joblib\n",
    "\n",
    "from lightautoml.automl.presets.tabular_presets import TabularAutoML\n",
    "from lightautoml.tasks import Task\n",
    "from lightautoml.report.report_deco import ReportDeco\n",
    "\n",
    "# Disable warnings\n",
    "import warnings\n",
    "warnings.filterwarnings(\"ignore\")"
   ]
  },
  {
   "cell_type": "code",
   "execution_count": 3,
   "metadata": {},
   "outputs": [
    {
     "data": {
      "text/plain": [
       "ID                    object\n",
       "item_category_id       int64\n",
       "date_block_num         int64\n",
       "item_price_sum       float64\n",
       "item_price_mean      float64\n",
       "item_cnt_day_sum     float64\n",
       "item_cnt_day_mean    float64\n",
       "target               float64\n",
       "dtype: object"
      ]
     },
     "execution_count": 3,
     "metadata": {},
     "output_type": "execute_result"
    }
   ],
   "source": [
    "sales_train =pd.read_csv('./data/train.csv',sep=',')\n",
    "sales_test =pd.read_csv('./data/test.csv',sep=',')\n",
    "\n",
    "sales_train.dtypes"
   ]
  },
  {
   "cell_type": "code",
   "execution_count": 4,
   "metadata": {},
   "outputs": [],
   "source": [
    "sales_train['item_category_id'] = sales_train['item_category_id'].astype(str)\n",
    "sales_test['item_category_id'] = sales_test['item_category_id'].astype(str)\n",
    "sales_train['date_block_num'] = sales_train['date_block_num'].astype(str)\n",
    "sales_test['date_block_num'] = sales_test['date_block_num'].astype(str)"
   ]
  },
  {
   "cell_type": "markdown",
   "metadata": {},
   "source": [
    "### AutoML params"
   ]
  },
  {
   "cell_type": "code",
   "execution_count": null,
   "metadata": {},
   "outputs": [],
   "source": [
    "N_THREADS = 24\n",
    "N_FOLDS = 4\n",
    "RANDOM_STATE = 42\n",
    "TEST_SIZE = 0.2\n",
    "TIMEOUT = 3600\n",
    "TARGET_NAME = 'target'"
   ]
  },
  {
   "cell_type": "markdown",
   "metadata": {},
   "source": [
    "### AutoML training and evaluation"
   ]
  },
  {
   "cell_type": "code",
   "execution_count": null,
   "metadata": {},
   "outputs": [],
   "source": [
    "task = Task(\"reg\", greater_is_better=False, metric=\"mse\", loss=\"mse\",)\n",
    "\n",
    "roles = {\n",
    "    'target': TARGET_NAME,\n",
    "    'drop': ['ID'],\n",
    "    'numeric':['item_price_sum', 'item_price_mean', 'item_cnt_day_sum', 'item_cnt_day_mean'],\n",
    "    'category':['item_category_id', 'date_block_num']\n",
    "}\n",
    "\n",
    "automl = TabularAutoML(\n",
    "    task = task, \n",
    "    timeout = TIMEOUT,\n",
    "    cpu_limit = N_THREADS,\n",
    "    reader_params = {'n_jobs': N_THREADS, 'cv': N_FOLDS, 'random_state': RANDOM_STATE},\n",
    ")"
   ]
  },
  {
   "cell_type": "code",
   "execution_count": null,
   "metadata": {},
   "outputs": [
    {
     "name": "stdout",
     "output_type": "stream",
     "text": [
      "[05:37:28] Stdout logging level is INFO.\n",
      "[05:37:28] Copying TaskTimer may affect the parent PipelineTimer, so copy will create new unlimited TaskTimer\n",
      "[05:37:28] Task: reg\n",
      "\n",
      "[05:37:28] Start automl preset with listed constraints:\n",
      "[05:37:28] - time: 3600.00 seconds\n",
      "[05:37:28] - CPU: 24 cores\n",
      "[05:37:28] - memory: 16 GB\n",
      "\n",
      "[05:37:28] \u001b[1mTrain data shape: (562814, 8)\u001b[0m\n",
      "\n",
      "[05:37:37] Layer \u001b[1m1\u001b[0m train process start. Time left 3590.86 secs\n",
      "[05:37:41] Start fitting \u001b[1mLvl_0_Pipe_0_Mod_0_LinearL2\u001b[0m ...\n",
      "[05:38:04] Fitting \u001b[1mLvl_0_Pipe_0_Mod_0_LinearL2\u001b[0m finished. score = \u001b[1m-43.634176877300526\u001b[0m\n",
      "[05:38:04] \u001b[1mLvl_0_Pipe_0_Mod_0_LinearL2\u001b[0m fitting and predicting completed\n",
      "[05:38:04] Time left 3563.77 secs\n",
      "\n",
      "[05:38:08] \u001b[1mSelector_LightGBM\u001b[0m fitting and predicting completed\n",
      "[05:38:11] Start fitting \u001b[1mLvl_0_Pipe_1_Mod_0_LightGBM\u001b[0m ...\n",
      "[05:38:23] Fitting \u001b[1mLvl_0_Pipe_1_Mod_0_LightGBM\u001b[0m finished. score = \u001b[1m-34.21963875694941\u001b[0m\n",
      "[05:38:23] \u001b[1mLvl_0_Pipe_1_Mod_0_LightGBM\u001b[0m fitting and predicting completed\n",
      "[05:38:23] Start hyperparameters optimization for \u001b[1mLvl_0_Pipe_1_Mod_1_Tuned_LightGBM\u001b[0m ... Time budget is 300.00 secs\n",
      "[05:43:24] Hyperparameters optimization for \u001b[1mLvl_0_Pipe_1_Mod_1_Tuned_LightGBM\u001b[0m completed\n",
      "[05:43:24] Start fitting \u001b[1mLvl_0_Pipe_1_Mod_1_Tuned_LightGBM\u001b[0m ...\n",
      "[05:43:48] Fitting \u001b[1mLvl_0_Pipe_1_Mod_1_Tuned_LightGBM\u001b[0m finished. score = \u001b[1m-33.179309604686495\u001b[0m\n",
      "[05:43:48] \u001b[1mLvl_0_Pipe_1_Mod_1_Tuned_LightGBM\u001b[0m fitting and predicting completed\n",
      "[05:43:48] Start fitting \u001b[1mLvl_0_Pipe_1_Mod_2_CatBoost\u001b[0m ...\n",
      "[05:44:05] Fitting \u001b[1mLvl_0_Pipe_1_Mod_2_CatBoost\u001b[0m finished. score = \u001b[1m-49.13716629209444\u001b[0m\n",
      "[05:44:05] \u001b[1mLvl_0_Pipe_1_Mod_2_CatBoost\u001b[0m fitting and predicting completed\n",
      "[05:44:05] Start hyperparameters optimization for \u001b[1mLvl_0_Pipe_1_Mod_3_Tuned_CatBoost\u001b[0m ... Time budget is 300.00 secs\n",
      "[05:47:56] Hyperparameters optimization for \u001b[1mLvl_0_Pipe_1_Mod_3_Tuned_CatBoost\u001b[0m completed\n",
      "[05:47:56] Start fitting \u001b[1mLvl_0_Pipe_1_Mod_3_Tuned_CatBoost\u001b[0m ...\n",
      "[05:48:11] Fitting \u001b[1mLvl_0_Pipe_1_Mod_3_Tuned_CatBoost\u001b[0m finished. score = \u001b[1m-49.4789484683788\u001b[0m\n",
      "[05:48:11] \u001b[1mLvl_0_Pipe_1_Mod_3_Tuned_CatBoost\u001b[0m fitting and predicting completed\n",
      "[05:48:11] Time left 2957.03 secs\n",
      "\n",
      "[05:48:11] \u001b[1mLayer 1 training completed.\u001b[0m\n",
      "\n",
      "[05:48:11] Blending: optimization starts with equal weights and score \u001b[1m-36.77878897436494\u001b[0m\n",
      "[05:48:12] Blending: iteration \u001b[1m0\u001b[0m: score = \u001b[1m-33.14332451030296\u001b[0m, weights = \u001b[1m[0.         0.         0.9455222  0.05447786 0.        ]\u001b[0m\n",
      "[05:48:14] Blending: iteration \u001b[1m1\u001b[0m: score = \u001b[1m-33.14332448878528\u001b[0m, weights = \u001b[1m[0.         0.         0.9455222  0.05447785 0.        ]\u001b[0m\n",
      "[05:48:15] Blending: iteration \u001b[1m2\u001b[0m: score = \u001b[1m-33.14332448878528\u001b[0m, weights = \u001b[1m[0.         0.         0.9455222  0.05447785 0.        ]\u001b[0m\n",
      "[05:48:15] Blending: no score update. Terminated\n",
      "\n",
      "[05:48:15] \u001b[1mAutoml preset training completed in 647.31 seconds\u001b[0m\n",
      "\n",
      "[05:48:15] Model description:\n",
      "Final prediction for new objects (level 0) = \n",
      "\t 0.94552 * (4 averaged models Lvl_0_Pipe_1_Mod_1_Tuned_LightGBM) +\n",
      "\t 0.05448 * (4 averaged models Lvl_0_Pipe_1_Mod_2_CatBoost) \n",
      "\n",
      "CPU times: user 2h 25min 33s, sys: 3min 56s, total: 2h 29min 29s\n",
      "Wall time: 10min 47s\n"
     ]
    }
   ],
   "source": [
    "%%time \n",
    "out_of_fold_predictions = automl.fit_predict(sales_train, roles = roles, verbose = 1)"
   ]
  },
  {
   "cell_type": "code",
   "execution_count": null,
   "metadata": {},
   "outputs": [
    {
     "name": "stdout",
     "output_type": "stream",
     "text": [
      "Prediction for test_data:\n",
      "array([[ 1.2744274],\n",
      "       [ 1.8708632],\n",
      "       [14.375582 ],\n",
      "       ...,\n",
      "       [ 1.3824899],\n",
      "       [ 1.3824899],\n",
      "       [ 1.3455229]], dtype=float32)\n",
      "Shape = (113924, 1)\n",
      "CPU times: user 22.7 s, sys: 91.1 ms, total: 22.8 s\n",
      "Wall time: 1.42 s\n"
     ]
    }
   ],
   "source": [
    "%%time\n",
    "\n",
    "test_predictions = automl.predict(sales_test)\n",
    "print(f'Prediction for test_data:\\n{test_predictions}\\nShape = {test_predictions.shape}')"
   ]
  },
  {
   "cell_type": "code",
   "execution_count": null,
   "metadata": {},
   "outputs": [
    {
     "name": "stdout",
     "output_type": "stream",
     "text": [
      "OOF score: 5.757023926369013\n",
      "HOLDOUT score: 11.651347913725791\n"
     ]
    }
   ],
   "source": [
    "print(f'OOF score: {sqrt(mean_squared_error(sales_train[TARGET_NAME].values, out_of_fold_predictions.data[:, 0]))}')\n",
    "print(f'HOLDOUT score: {sqrt(mean_squared_error(sales_test[TARGET_NAME].values, test_predictions.data[:, 0]))}')"
   ]
  },
  {
   "cell_type": "code",
   "execution_count": null,
   "metadata": {},
   "outputs": [
    {
     "data": {
      "text/plain": [
       "['automl_best.pkl']"
      ]
     },
     "metadata": {},
     "output_type": "display_data"
    }
   ],
   "source": [
    "joblib.dump(automl,'automl_best.pkl')"
   ]
  },
  {
   "cell_type": "code",
   "execution_count": null,
   "metadata": {},
   "outputs": [
    {
     "name": "stdout",
     "output_type": "stream",
     "text": [
      "Final prediction for new objects (level 0) = \n",
      "\t 0.94397 * (4 averaged models Lvl_0_Pipe_1_Mod_1_Tuned_LightGBM) +\n",
      "\t 0.05603 * (4 averaged models Lvl_0_Pipe_1_Mod_2_CatBoost) \n",
      "[19:16:27] Stdout logging level is INFO.\n",
      "[19:16:27] Task: reg\n",
      "\n",
      "[19:16:27] Start automl preset with listed constraints:\n",
      "[19:16:27] - time: 3600.00 seconds\n",
      "[19:16:27] - CPU: 10 cores\n",
      "[19:16:27] - memory: 16 GB\n",
      "\n",
      "[19:16:27] \u001b[1mTrain data shape: (562814, 8)\u001b[0m\n",
      "\n"
     ]
    },
    {
     "name": "stdout",
     "output_type": "stream",
     "text": [
      "[19:16:30] Layer \u001b[1m1\u001b[0m train process start. Time left 3596.60 secs\n",
      "[19:16:32] Start fitting \u001b[1mLvl_0_Pipe_0_Mod_0_LinearL2\u001b[0m ...\n",
      "[19:16:47] Fitting \u001b[1mLvl_0_Pipe_0_Mod_0_LinearL2\u001b[0m finished. score = \u001b[1m-43.63457683725928\u001b[0m\n",
      "[19:16:47] \u001b[1mLvl_0_Pipe_0_Mod_0_LinearL2\u001b[0m fitting and predicting completed\n",
      "[19:16:47] Time left 3579.36 secs\n",
      "\n",
      "[19:16:50] \u001b[1mSelector_LightGBM\u001b[0m fitting and predicting completed\n",
      "[19:16:51] Start fitting \u001b[1mLvl_0_Pipe_1_Mod_0_LightGBM\u001b[0m ...\n",
      "[19:16:59] Fitting \u001b[1mLvl_0_Pipe_1_Mod_0_LightGBM\u001b[0m finished. score = \u001b[1m-34.21963875694941\u001b[0m\n",
      "[19:16:59] \u001b[1mLvl_0_Pipe_1_Mod_0_LightGBM\u001b[0m fitting and predicting completed\n",
      "[19:16:59] Start hyperparameters optimization for \u001b[1mLvl_0_Pipe_1_Mod_1_Tuned_LightGBM\u001b[0m ... Time budget is 300.00 secs\n",
      "[19:21:11] Hyperparameters optimization for \u001b[1mLvl_0_Pipe_1_Mod_1_Tuned_LightGBM\u001b[0m completed\n",
      "[19:21:11] Start fitting \u001b[1mLvl_0_Pipe_1_Mod_1_Tuned_LightGBM\u001b[0m ...\n",
      "[19:21:27] Fitting \u001b[1mLvl_0_Pipe_1_Mod_1_Tuned_LightGBM\u001b[0m finished. score = \u001b[1m-33.06256633456075\u001b[0m\n",
      "[19:21:27] \u001b[1mLvl_0_Pipe_1_Mod_1_Tuned_LightGBM\u001b[0m fitting and predicting completed\n",
      "[19:21:27] Start fitting \u001b[1mLvl_0_Pipe_1_Mod_2_CatBoost\u001b[0m ...\n",
      "[19:21:36] Fitting \u001b[1mLvl_0_Pipe_1_Mod_2_CatBoost\u001b[0m finished. score = \u001b[1m-49.13716629102536\u001b[0m\n",
      "[19:21:36] \u001b[1mLvl_0_Pipe_1_Mod_2_CatBoost\u001b[0m fitting and predicting completed\n",
      "[19:21:36] Start hyperparameters optimization for \u001b[1mLvl_0_Pipe_1_Mod_3_Tuned_CatBoost\u001b[0m ... Time budget is 300.00 secs\n",
      "[19:24:08] Hyperparameters optimization for \u001b[1mLvl_0_Pipe_1_Mod_3_Tuned_CatBoost\u001b[0m completed\n",
      "[19:24:08] Start fitting \u001b[1mLvl_0_Pipe_1_Mod_3_Tuned_CatBoost\u001b[0m ...\n",
      "[19:24:18] Fitting \u001b[1mLvl_0_Pipe_1_Mod_3_Tuned_CatBoost\u001b[0m finished. score = \u001b[1m-49.47894848241569\u001b[0m\n",
      "[19:24:18] \u001b[1mLvl_0_Pipe_1_Mod_3_Tuned_CatBoost\u001b[0m fitting and predicting completed\n",
      "[19:24:18] Time left 3128.37 secs\n",
      "\n",
      "[19:24:18] \u001b[1mLayer 1 training completed.\u001b[0m\n",
      "\n",
      "[19:24:18] Blending: optimization starts with equal weights and score \u001b[1m-36.703829361700535\u001b[0m\n",
      "[19:24:19] Blending: iteration \u001b[1m0\u001b[0m: score = \u001b[1m-33.01143985341125\u001b[0m, weights = \u001b[1m[0.         0.         0.9261907  0.07380927 0.        ]\u001b[0m\n",
      "[19:24:19] Blending: iteration \u001b[1m1\u001b[0m: score = \u001b[1m-33.005721023565776\u001b[0m, weights = \u001b[1m[0.         0.         0.94396734 0.05603264 0.        ]\u001b[0m\n",
      "[19:24:20] Blending: iteration \u001b[1m2\u001b[0m: score = \u001b[1m-33.005721023565776\u001b[0m, weights = \u001b[1m[0.         0.         0.94396734 0.05603264 0.        ]\u001b[0m\n",
      "[19:24:20] Blending: no score update. Terminated\n",
      "\n",
      "[19:24:20] \u001b[1mAutoml preset training completed in 473.14 seconds\u001b[0m\n",
      "\n",
      "[19:24:20] Model description:\n",
      "Final prediction for new objects (level 0) = \n",
      "\t 0.94397 * (4 averaged models Lvl_0_Pipe_1_Mod_1_Tuned_LightGBM) +\n",
      "\t 0.05603 * (4 averaged models Lvl_0_Pipe_1_Mod_2_CatBoost) \n",
      "\n",
      "CPU times: user 56min 10s, sys: 7min 34s, total: 1h 3min 45s\n",
      "Wall time: 10min 31s\n"
     ]
    }
   ],
   "source": [
    "%%time\n",
    "\n",
    "print(automl.create_model_str_desc())\n",
    "\n",
    "RD = ReportDeco(output_path = 'tabularAutoML_model_report')\n",
    "\n",
    "automl_rd = RD(\n",
    "    TabularAutoML(\n",
    "        task = task, \n",
    "        timeout = TIMEOUT,\n",
    "        cpu_limit = N_THREADS,\n",
    "        reader_params = {'n_jobs': N_THREADS, 'cv': N_FOLDS, 'random_state': RANDOM_STATE}\n",
    "    )\n",
    ")\n",
    "\n",
    "out_of_fold_predictions = automl_rd.fit_predict(sales_train, roles = roles, verbose = 1)"
   ]
  },
  {
   "cell_type": "code",
   "execution_count": null,
   "metadata": {},
   "outputs": [
    {
     "name": "stdout",
     "output_type": "stream",
     "text": [
      "CPU times: user 28.3 ms, sys: 19.2 ms, total: 47.5 ms\n",
      "Wall time: 36 ms\n"
     ]
    },
    {
     "data": {
      "text/plain": [
       "<Axes: xlabel='Feature'>"
      ]
     },
     "metadata": {},
     "output_type": "display_data"
    },
    {
     "data": {
      "image/png": "[encoded data removed]",
      "text/plain": [
       "<Figure size 3000x1000 with 1 Axes>"
      ]
     },
     "metadata": {},
     "output_type": "display_data"
    }
   ],
   "source": [
    "%%time\n",
    "\n",
    "fast_fi = automl_rd.model.get_feature_scores('fast')\n",
    "fast_fi.set_index('Feature')['Importance'].plot.bar(figsize = (30, 10), grid = True)"
   ]
  }
 ],
 "metadata": {
  "kernelspec": {
   "display_name": "drugs_ner_env",
   "language": "python",
   "name": "drugs_ner_env"
  },
  "language_info": {
   "codemirror_mode": {
    "name": "ipython",
    "version": 3
   },
   "file_extension": ".py",
   "mimetype": "text/x-python",
   "name": "python",
   "nbconvert_exporter": "python",
   "pygments_lexer": "ipython3",
   "version": "3.8.8"
  }
 },
 "nbformat": 4,
 "nbformat_minor": 2
}
