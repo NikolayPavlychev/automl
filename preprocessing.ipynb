{
 "cells": [
  {
   "cell_type": "markdown",
   "metadata": {},
   "source": [
    "## Preprocessing notebook\n",
    "Created by Nikolay Pavlychev \\\n",
    "email: nikolaypavlychev@ya.ru"
   ]
  },
  {
   "cell_type": "code",
   "execution_count": 1,
   "metadata": {},
   "outputs": [
    {
     "name": "stderr",
     "output_type": "stream",
     "text": [
      "/home/nikolaypavlychev/anaconda3/envs/drugs_ner_env/lib/python3.8/site-packages/tqdm/auto.py:21: TqdmWarning: IProgress not found. Please update jupyter and ipywidgets. See https://ipywidgets.readthedocs.io/en/stable/user_install.html\n",
      "  from .autonotebook import tqdm as notebook_tqdm\n"
     ]
    }
   ],
   "source": [
    "# Standard python libraries\n",
    "import os\n",
    "import requests\n",
    "\n",
    "# Essential DS libraries\n",
    "import numpy as np\n",
    "import pandas as pd\n",
    "from sklearn.metrics import roc_auc_score\n",
    "from sklearn.model_selection import train_test_split\n",
    "import torch\n"
   ]
  },
  {
   "cell_type": "code",
   "execution_count": 2,
   "metadata": {},
   "outputs": [],
   "source": [
    "sales_train = pd.read_csv('./data/sales_train.csv',sep=',',dtype=object)\n",
    "shops = pd.read_csv('./data/shops.csv',sep=',',dtype=object)\n",
    "items = pd.read_csv('./data/items.csv',sep=',',dtype=object)\n",
    "item_categories = pd.read_csv('./data/item_categories.csv',sep=',',dtype=object)"
   ]
  },
  {
   "cell_type": "code",
   "execution_count": 3,
   "metadata": {},
   "outputs": [
    {
     "name": "stdout",
     "output_type": "stream",
     "text": [
      "22170 22170 84 84\n"
     ]
    }
   ],
   "source": [
    "# Join tables\n",
    "print(items['item_id'].unique().shape[0], items['item_id'].shape[0],\n",
    "      item_categories['item_category_id'].unique().shape[0], item_categories['item_category_id'].shape[0])"
   ]
  },
  {
   "cell_type": "code",
   "execution_count": 4,
   "metadata": {},
   "outputs": [
    {
     "data": {
      "text/html": [
       "<div>\n",
       "<style scoped>\n",
       "    .dataframe tbody tr th:only-of-type {\n",
       "        vertical-align: middle;\n",
       "    }\n",
       "\n",
       "    .dataframe tbody tr th {\n",
       "        vertical-align: top;\n",
       "    }\n",
       "\n",
       "    .dataframe thead th {\n",
       "        text-align: right;\n",
       "    }\n",
       "</style>\n",
       "<table border=\"1\" class=\"dataframe\">\n",
       "  <thead>\n",
       "    <tr style=\"text-align: right;\">\n",
       "      <th></th>\n",
       "      <th>date</th>\n",
       "      <th>date_block_num</th>\n",
       "      <th>shop_id</th>\n",
       "      <th>item_id</th>\n",
       "      <th>item_price</th>\n",
       "      <th>item_cnt_day</th>\n",
       "    </tr>\n",
       "  </thead>\n",
       "  <tbody>\n",
       "    <tr>\n",
       "      <th>0</th>\n",
       "      <td>02.01.2013</td>\n",
       "      <td>0</td>\n",
       "      <td>59</td>\n",
       "      <td>22154</td>\n",
       "      <td>999.0</td>\n",
       "      <td>1.0</td>\n",
       "    </tr>\n",
       "    <tr>\n",
       "      <th>1</th>\n",
       "      <td>03.01.2013</td>\n",
       "      <td>0</td>\n",
       "      <td>25</td>\n",
       "      <td>2552</td>\n",
       "      <td>899.0</td>\n",
       "      <td>1.0</td>\n",
       "    </tr>\n",
       "    <tr>\n",
       "      <th>2</th>\n",
       "      <td>05.01.2013</td>\n",
       "      <td>0</td>\n",
       "      <td>25</td>\n",
       "      <td>2552</td>\n",
       "      <td>899.0</td>\n",
       "      <td>-1.0</td>\n",
       "    </tr>\n",
       "    <tr>\n",
       "      <th>3</th>\n",
       "      <td>06.01.2013</td>\n",
       "      <td>0</td>\n",
       "      <td>25</td>\n",
       "      <td>2554</td>\n",
       "      <td>1709.05</td>\n",
       "      <td>1.0</td>\n",
       "    </tr>\n",
       "    <tr>\n",
       "      <th>4</th>\n",
       "      <td>15.01.2013</td>\n",
       "      <td>0</td>\n",
       "      <td>25</td>\n",
       "      <td>2555</td>\n",
       "      <td>1099.0</td>\n",
       "      <td>1.0</td>\n",
       "    </tr>\n",
       "    <tr>\n",
       "      <th>5</th>\n",
       "      <td>10.01.2013</td>\n",
       "      <td>0</td>\n",
       "      <td>25</td>\n",
       "      <td>2564</td>\n",
       "      <td>349.0</td>\n",
       "      <td>1.0</td>\n",
       "    </tr>\n",
       "    <tr>\n",
       "      <th>6</th>\n",
       "      <td>02.01.2013</td>\n",
       "      <td>0</td>\n",
       "      <td>25</td>\n",
       "      <td>2565</td>\n",
       "      <td>549.0</td>\n",
       "      <td>1.0</td>\n",
       "    </tr>\n",
       "    <tr>\n",
       "      <th>7</th>\n",
       "      <td>04.01.2013</td>\n",
       "      <td>0</td>\n",
       "      <td>25</td>\n",
       "      <td>2572</td>\n",
       "      <td>239.0</td>\n",
       "      <td>1.0</td>\n",
       "    </tr>\n",
       "    <tr>\n",
       "      <th>8</th>\n",
       "      <td>11.01.2013</td>\n",
       "      <td>0</td>\n",
       "      <td>25</td>\n",
       "      <td>2572</td>\n",
       "      <td>299.0</td>\n",
       "      <td>1.0</td>\n",
       "    </tr>\n",
       "    <tr>\n",
       "      <th>9</th>\n",
       "      <td>03.01.2013</td>\n",
       "      <td>0</td>\n",
       "      <td>25</td>\n",
       "      <td>2573</td>\n",
       "      <td>299.0</td>\n",
       "      <td>3.0</td>\n",
       "    </tr>\n",
       "  </tbody>\n",
       "</table>\n",
       "</div>"
      ],
      "text/plain": [
       "         date date_block_num shop_id item_id item_price item_cnt_day\n",
       "0  02.01.2013              0      59   22154      999.0          1.0\n",
       "1  03.01.2013              0      25    2552      899.0          1.0\n",
       "2  05.01.2013              0      25    2552      899.0         -1.0\n",
       "3  06.01.2013              0      25    2554    1709.05          1.0\n",
       "4  15.01.2013              0      25    2555     1099.0          1.0\n",
       "5  10.01.2013              0      25    2564      349.0          1.0\n",
       "6  02.01.2013              0      25    2565      549.0          1.0\n",
       "7  04.01.2013              0      25    2572      239.0          1.0\n",
       "8  11.01.2013              0      25    2572      299.0          1.0\n",
       "9  03.01.2013              0      25    2573      299.0          3.0"
      ]
     },
     "execution_count": 4,
     "metadata": {},
     "output_type": "execute_result"
    }
   ],
   "source": [
    "items = items.merge(item_categories,on='item_category_id',how='inner')\n",
    "\n",
    "sales_train.head(10)"
   ]
  },
  {
   "cell_type": "code",
   "execution_count": 5,
   "metadata": {},
   "outputs": [],
   "source": [
    "sales = sales_train.merge(items[['item_id','item_category_id']],on='item_id',how='left')\n"
   ]
  },
  {
   "cell_type": "code",
   "execution_count": 6,
   "metadata": {},
   "outputs": [],
   "source": [
    "sales.to_csv('./data/sales_history_dataset.csv', sep=';',index=False)"
   ]
  },
  {
   "cell_type": "markdown",
   "metadata": {},
   "source": [
    "## Dataset statistics"
   ]
  },
  {
   "cell_type": "code",
   "execution_count": 7,
   "metadata": {},
   "outputs": [
    {
     "name": "stdout",
     "output_type": "stream",
     "text": [
      "Sales period:\n"
     ]
    },
    {
     "data": {
      "text/plain": [
       "(Timestamp('2013-01-01 00:00:00'), ' - ', Timestamp('2015-10-31 00:00:00'))"
      ]
     },
     "execution_count": 7,
     "metadata": {},
     "output_type": "execute_result"
    }
   ],
   "source": [
    "sales['date'] =pd.to_datetime(sales['date'],format=\"%d.%m.%Y\")\n",
    "\n",
    "print('Sales period:')\n",
    "sales['date'].min(), ' - ',sales['date'].max()"
   ]
  },
  {
   "cell_type": "code",
   "execution_count": 8,
   "metadata": {},
   "outputs": [
    {
     "name": "stdout",
     "output_type": "stream",
     "text": [
      "data shape: (2935849, 8)\n",
      "number of time series in data: 424124\n"
     ]
    }
   ],
   "source": [
    "sales['ID'] = sales['shop_id'].astype(str) + '_' + sales['item_id'].astype(str)\n",
    "print(f\"data shape: {sales.shape}\")\n",
    "print(f\"number of time series in data: {sales['ID'].nunique()}\")"
   ]
  },
  {
   "cell_type": "code",
   "execution_count": 9,
   "metadata": {},
   "outputs": [
    {
     "name": "stdout",
     "output_type": "stream",
     "text": [
      "time series dataset stats:\n"
     ]
    },
    {
     "data": {
      "text/html": [
       "<div>\n",
       "<style scoped>\n",
       "    .dataframe tbody tr th:only-of-type {\n",
       "        vertical-align: middle;\n",
       "    }\n",
       "\n",
       "    .dataframe tbody tr th {\n",
       "        vertical-align: top;\n",
       "    }\n",
       "\n",
       "    .dataframe thead th {\n",
       "        text-align: right;\n",
       "    }\n",
       "</style>\n",
       "<table border=\"1\" class=\"dataframe\">\n",
       "  <thead>\n",
       "    <tr style=\"text-align: right;\">\n",
       "      <th></th>\n",
       "      <th>min_date_block_num</th>\n",
       "      <th>max_date_block_num</th>\n",
       "      <th>min_date</th>\n",
       "      <th>max_date</th>\n",
       "      <th>count_obs</th>\n",
       "    </tr>\n",
       "    <tr>\n",
       "      <th>ID</th>\n",
       "      <th></th>\n",
       "      <th></th>\n",
       "      <th></th>\n",
       "      <th></th>\n",
       "      <th></th>\n",
       "    </tr>\n",
       "  </thead>\n",
       "  <tbody>\n",
       "    <tr>\n",
       "      <th>0_1000</th>\n",
       "      <td>0</td>\n",
       "      <td>1</td>\n",
       "      <td>2013-01-03</td>\n",
       "      <td>2013-02-27</td>\n",
       "      <td>9</td>\n",
       "    </tr>\n",
       "    <tr>\n",
       "      <th>0_10004</th>\n",
       "      <td>1</td>\n",
       "      <td>1</td>\n",
       "      <td>2013-02-09</td>\n",
       "      <td>2013-02-09</td>\n",
       "      <td>1</td>\n",
       "    </tr>\n",
       "    <tr>\n",
       "      <th>0_1001</th>\n",
       "      <td>0</td>\n",
       "      <td>0</td>\n",
       "      <td>2013-01-03</td>\n",
       "      <td>2013-01-12</td>\n",
       "      <td>2</td>\n",
       "    </tr>\n",
       "    <tr>\n",
       "      <th>0_10012</th>\n",
       "      <td>0</td>\n",
       "      <td>1</td>\n",
       "      <td>2013-01-22</td>\n",
       "      <td>2013-02-19</td>\n",
       "      <td>3</td>\n",
       "    </tr>\n",
       "    <tr>\n",
       "      <th>0_1002</th>\n",
       "      <td>0</td>\n",
       "      <td>0</td>\n",
       "      <td>2013-01-09</td>\n",
       "      <td>2013-01-28</td>\n",
       "      <td>2</td>\n",
       "    </tr>\n",
       "    <tr>\n",
       "      <th>0_1003</th>\n",
       "      <td>0</td>\n",
       "      <td>0</td>\n",
       "      <td>2013-01-09</td>\n",
       "      <td>2013-01-17</td>\n",
       "      <td>2</td>\n",
       "    </tr>\n",
       "    <tr>\n",
       "      <th>0_10033</th>\n",
       "      <td>1</td>\n",
       "      <td>1</td>\n",
       "      <td>2013-02-26</td>\n",
       "      <td>2013-02-26</td>\n",
       "      <td>1</td>\n",
       "    </tr>\n",
       "    <tr>\n",
       "      <th>0_10038</th>\n",
       "      <td>1</td>\n",
       "      <td>1</td>\n",
       "      <td>2013-02-28</td>\n",
       "      <td>2013-02-28</td>\n",
       "      <td>1</td>\n",
       "    </tr>\n",
       "    <tr>\n",
       "      <th>0_10039</th>\n",
       "      <td>0</td>\n",
       "      <td>1</td>\n",
       "      <td>2013-01-26</td>\n",
       "      <td>2013-02-24</td>\n",
       "      <td>3</td>\n",
       "    </tr>\n",
       "    <tr>\n",
       "      <th>0_1004</th>\n",
       "      <td>1</td>\n",
       "      <td>1</td>\n",
       "      <td>2013-02-08</td>\n",
       "      <td>2013-02-25</td>\n",
       "      <td>3</td>\n",
       "    </tr>\n",
       "  </tbody>\n",
       "</table>\n",
       "</div>"
      ],
      "text/plain": [
       "        min_date_block_num max_date_block_num   min_date   max_date  count_obs\n",
       "ID                                                                            \n",
       "0_1000                   0                  1 2013-01-03 2013-02-27          9\n",
       "0_10004                  1                  1 2013-02-09 2013-02-09          1\n",
       "0_1001                   0                  0 2013-01-03 2013-01-12          2\n",
       "0_10012                  0                  1 2013-01-22 2013-02-19          3\n",
       "0_1002                   0                  0 2013-01-09 2013-01-28          2\n",
       "0_1003                   0                  0 2013-01-09 2013-01-17          2\n",
       "0_10033                  1                  1 2013-02-26 2013-02-26          1\n",
       "0_10038                  1                  1 2013-02-28 2013-02-28          1\n",
       "0_10039                  0                  1 2013-01-26 2013-02-24          3\n",
       "0_1004                   1                  1 2013-02-08 2013-02-25          3"
      ]
     },
     "execution_count": 9,
     "metadata": {},
     "output_type": "execute_result"
    }
   ],
   "source": [
    "print('time series dataset stats:')\n",
    "\n",
    "sales_agg = sales.groupby(by='ID').agg(min_date_block_num=('date_block_num','min'),\n",
    "                                       max_date_block_num=('date_block_num','max'),\n",
    "                                       min_date=('date','min'),\n",
    "                                       max_date=('date','max'),\n",
    "                                       count_obs=('date','count'))\n",
    "sales_agg.head(10)"
   ]
  },
  {
   "cell_type": "code",
   "execution_count": 10,
   "metadata": {},
   "outputs": [],
   "source": [
    "sales_agg = sales_agg.reset_index()\n",
    "sales_agg['sales_days'] = (sales_agg['max_date'] - sales_agg['min_date'])\n",
    "sales_agg['sales_days'] = sales_agg['sales_days'].apply(lambda x: x.days)\n"
   ]
  },
  {
   "cell_type": "code",
   "execution_count": 11,
   "metadata": {},
   "outputs": [
    {
     "name": "stdout",
     "output_type": "stream",
     "text": [
      "sales min time period:  0\n",
      "sales max time period:  1033\n",
      "------------------------------------------------\n",
      "sales min count:  1\n",
      "sales max count:  867\n"
     ]
    }
   ],
   "source": [
    "print('sales min time period: ', sales_agg['sales_days'].min())\n",
    "print('sales max time period: ', sales_agg['sales_days'].max())\n",
    "print('------------------------------------------------')\n",
    "print('sales min count: ', sales_agg['count_obs'].min())\n",
    "print('sales max count: ', sales_agg['count_obs'].max())"
   ]
  },
  {
   "cell_type": "code",
   "execution_count": 12,
   "metadata": {},
   "outputs": [
    {
     "name": "stdout",
     "output_type": "stream",
     "text": [
      "sales mean count:  6.922147768105554\n"
     ]
    }
   ],
   "source": [
    "print('sales mean count: ', sales_agg['count_obs'].mean())"
   ]
  }
 ],
 "metadata": {
  "kernelspec": {
   "display_name": "drugs_ner_env",
   "language": "python",
   "name": "drugs_ner_env"
  },
  "language_info": {
   "codemirror_mode": {
    "name": "ipython",
    "version": 3
   },
   "file_extension": ".py",
   "mimetype": "text/x-python",
   "name": "python",
   "nbconvert_exporter": "python",
   "pygments_lexer": "ipython3",
   "version": "3.8.8"
  },
  "vscode": {
   "interpreter": {
    "hash": "8f383a39d5b4f6d8a984d931ccc53c2bcf69a51c99d8e814de99dc0466ded2f4"
   }
  }
 },
 "nbformat": 4,
 "nbformat_minor": 2
}
